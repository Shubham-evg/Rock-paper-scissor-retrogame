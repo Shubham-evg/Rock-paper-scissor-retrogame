{
 "cells": [
  {
   "cell_type": "code",
   "execution_count": 2,
   "metadata": {},
   "outputs": [
    {
     "name": "stdout",
     "output_type": "stream",
     "text": [
      "enter your move\n",
      "rock\n",
      "player wins\n",
      "enter your move\n",
      "paper\n",
      "computer wins\n",
      "enter your move\n",
      "paper\n",
      "tie\n",
      "enter your move\n",
      "scissor\n",
      "computer wins\n",
      "Final winner: computer\n"
     ]
    }
   ],
   "source": [
    "#Eveergreen rock paper scissor game\n",
    "\n",
    "from random import randint\n",
    "win=2\n",
    "\n",
    "#initial score\n",
    "comp=0\n",
    "p=0\n",
    "\n",
    "while win>p and win>comp:\n",
    "    #choosing random n for input\n",
    "    random_num=randint(0,2)\n",
    "    computer=random_num\n",
    "    player=input(\"enter your move\\n\").lower()\n",
    "    \n",
    "    if player==\"quit\" or player==\"q\":\n",
    "        break\n",
    "    if computer==0:\n",
    "        computer=\"rock\"\n",
    "    elif computer==1:\n",
    "        computer=\"paper\"\n",
    "    else:\n",
    "        computer=\"scissor\"\n",
    "        \n",
    "    #comparing inputs of player with computer\n",
    "    if player==computer:\n",
    "        print(\"tie\")\n",
    "        \n",
    "    elif player==\"rock\":\n",
    "        if computer==\"paper\":\n",
    "            print(\"computer wins\")\n",
    "            comp+=1\n",
    "        else:\n",
    "            print(\"player wins\")\n",
    "            p+=1\n",
    "            \n",
    "    elif player==\"paper\":\n",
    "        if computer==\"rock\":\n",
    "            print(\"player wins\")\n",
    "            p+=1\n",
    "        else:\n",
    "            print(\"computer wins\")\n",
    "            comp+=1\n",
    "            \n",
    "    elif player==\"scissor\":\n",
    "        if computer==\"rock\":\n",
    "            print(\"computer wins\")\n",
    "            comp+=1\n",
    "        else:\n",
    "            print(\"player wins\")\n",
    "            p+=1\n",
    "            \n",
    "    else:\n",
    "        print(\"Please enter a valid input\")\n",
    "        \n",
    "        \n",
    "#comparing total no of wins\n",
    "if p>comp:\n",
    "    print(\"Final winner: Player\")\n",
    "elif comp>p:\n",
    "    print(\"Final winner: computer\")\n",
    "else :\n",
    "    print(\"its a Ties\")"
   ]
  },
  {
   "cell_type": "code",
   "execution_count": null,
   "metadata": {},
   "outputs": [],
   "source": []
  }
 ],
 "metadata": {
  "kernelspec": {
   "display_name": "Python 3",
   "language": "python",
   "name": "python3"
  },
  "language_info": {
   "codemirror_mode": {
    "name": "ipython",
    "version": 3
   },
   "file_extension": ".py",
   "mimetype": "text/x-python",
   "name": "python",
   "nbconvert_exporter": "python",
   "pygments_lexer": "ipython3",
   "version": "3.8.3"
  }
 },
 "nbformat": 4,
 "nbformat_minor": 4
}
